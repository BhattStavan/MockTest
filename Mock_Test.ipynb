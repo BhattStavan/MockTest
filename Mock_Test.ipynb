{
  "nbformat": 4,
  "nbformat_minor": 0,
  "metadata": {
    "colab": {
      "provenance": []
    },
    "kernelspec": {
      "name": "python3",
      "display_name": "Python 3"
    },
    "language_info": {
      "name": "python"
    }
  },
  "cells": [
    {
      "cell_type": "markdown",
      "source": [
        "#Question - 1\n",
        "Move Zeroes\n",
        "Given an integer array nums, move all 0's to the end of it while maintaining the relative order of the non-zero elements.\n",
        "\n",
        "Note that you must do this in-place without making a copy of the array.\n",
        "\n",
        "Example 1:\n",
        "Input: nums = [0,1,0,3,12]\n",
        "Output: [1,3,12,0,0]\n",
        "\n",
        "Example 2:\n",
        "Input: nums = [0]\n",
        "Output: [0]\n",
        "\n",
        "Constraints:\n",
        "a. 1 <= nums.length <= 10^4\n",
        "b. -2^31 <= nums[i] <= 2^31 - 1\n",
        "\n",
        "Note: Create a GitHub file for the solution and add the file link the the answer section below."
      ],
      "metadata": {
        "id": "2WFAEd2hRoSQ"
      }
    },
    {
      "cell_type": "code",
      "execution_count": 1,
      "metadata": {
        "colab": {
          "base_uri": "https://localhost:8080/"
        },
        "id": "K2dWlSEbRXS0",
        "outputId": "f57b5d6d-26cd-426f-b957-2c82ff7eb1a4"
      },
      "outputs": [
        {
          "output_type": "stream",
          "name": "stdout",
          "text": [
            "[1, 3, 12, 0, 0]\n",
            "[0]\n"
          ]
        }
      ],
      "source": [
        "def moveZeros(numbers):\n",
        "    left = right = 0\n",
        "    n = len(numbers)\n",
        "    \n",
        "    while right < n:\n",
        "        if numbers[right] != 0:\n",
        "            numbers[left], numbers[right] = numbers[right], numbers[left]\n",
        "            left += 1\n",
        "        right += 1\n",
        "\n",
        "numbers1 = [0, 1, 0, 3, 12]\n",
        "moveZeros(numbers1)\n",
        "print(numbers1)\n",
        "\n",
        "numbers2 = [0]\n",
        "moveZeros(numbers2)\n",
        "print(numbers2)\n"
      ]
    },
    {
      "cell_type": "markdown",
      "source": [
        "#Question - 2\n",
        "First Unique Character in a String\n",
        "\n",
        "Given a string s, find the first non-repeating character in it and return its index. If it does not exist, return -1.\n",
        "\n",
        "Example 1:\n",
        "Input: s = \"leetcode\"\n",
        "Output: 0\n",
        "\n",
        "Example 2:\n",
        "Input: s = \"loveleetcode\"\n",
        "Output: 2\n",
        "\n",
        "Example 3:\n",
        "Input: s = \"aabb\"\n",
        "Output: -1\n",
        "\n",
        "Constraints:\n",
        "a. 1 <= s.length <= 10^5\n",
        "b. s consists of only lowercase English letters.\n",
        "\n",
        "Note: Create a GitHub file for the solution and add the file link the the answer section below."
      ],
      "metadata": {
        "id": "ylbPrOE-R24l"
      }
    },
    {
      "cell_type": "code",
      "source": [
        "def firstUniqCharacter(string):\n",
        "    char_freq = {}\n",
        "\n",
        "    for char in string:\n",
        "        char_freq[char] = char_freq.get(char, 0) + 1\n",
        "\n",
        "    for i, char in enumerate(string):\n",
        "        if char_freq[char] == 1:\n",
        "            return i\n",
        "\n",
        "    return -1\n",
        "\n",
        "s1 = \"leetcode\"\n",
        "print(firstUniqCharacter(s1))\n",
        "\n",
        "s2 = \"loveleetcode\"\n",
        "print(firstUniqCharacter(s2))\n",
        "\n",
        "s3 = \"aabb\"\n",
        "print(firstUniqCharacter(s3))\n"
      ],
      "metadata": {
        "colab": {
          "base_uri": "https://localhost:8080/"
        },
        "id": "mX7wXyMrRhxy",
        "outputId": "c9e1cfe7-f74c-4a6b-f395-1abc8beec2da"
      },
      "execution_count": 3,
      "outputs": [
        {
          "output_type": "stream",
          "name": "stdout",
          "text": [
            "0\n",
            "2\n",
            "-1\n"
          ]
        }
      ]
    }
  ]
}